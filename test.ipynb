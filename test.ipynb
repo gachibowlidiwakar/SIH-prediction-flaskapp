{
 "cells": [
  {
   "cell_type": "code",
   "execution_count": 9,
   "metadata": {},
   "outputs": [
    {
     "name": "stdout",
     "output_type": "stream",
     "text": [
      "GradientBoostingClassifier(learning_rate=0.7, max_depth=4)\n"
     ]
    },
    {
     "data": {
      "text/plain": [
       "'gbc.pdf'"
      ]
     },
     "execution_count": 9,
     "metadata": {},
     "output_type": "execute_result"
    }
   ],
   "source": [
    "from sklearn import metrics \n",
    "from sklearn.tree import export_graphviz\n",
    "from keras.preprocessing.text import Tokenizer\n",
    "from keras.preprocessing.sequence import pad_sequences\n",
    "from keras.models import load_model\n",
    "import numpy as np\n",
    "import pickle\n",
    "import graphviz \n",
    "\n",
    "# Load the GBC model for domain prediction\n",
    "file = open(\"./model.pkl\", \"rb\")\n",
    "gbc = pickle.load(file)\n",
    "file.close()\n",
    "\n",
    "#print the model tree\n",
    "print(gbc)\n",
    "# ab copilot lodu\n",
    "# show the decison tree image\n",
    "\n",
    "  \n",
    "   \n",
    "\n",
    "feature_names = [\n",
    "    \"UsingIp\",\n",
    "    \"longUrl\",\n",
    "    \"shortUrl\",\n",
    "    \"symbol\",\n",
    "    \"redirecting\",\n",
    "    \"prefixSuffix\",\n",
    "    \"SubDomains\",\n",
    "    \"Hppts\",\n",
    "    \"DomainRegLen\",\n",
    "    \"Favicon\",\n",
    "    \"NonStdPort\",\n",
    "    \"HTTPSDomainURL\",\n",
    "    \"RequestURL\",\n",
    "    \"AnchorURL\",\n",
    "    \"LinksInScriptTags\",\n",
    "    \"ServerFormHandler\",\n",
    "    \"InfoEmail\",\n",
    "    \"AbnormalURL\",\n",
    "    \"WebsiteForwarding\",\n",
    "    \"StatusBarCust\",\n",
    "    \"DisableRightClick\",\n",
    "    \"UsingPopupWindow\",\n",
    "    \"IframeRedirection\",\n",
    "    \"AgeofDomain\",\n",
    "    \"DNSRecording\",\n",
    "    \"WebsiteTraffic\",\n",
    "    \"PageRank\",\n",
    "    \"GoogleIndex\",\n",
    "    \"LinksPointingToPage\",\n",
    "    \"StatsReport\"\n",
    "]\n",
    "\n",
    "\n",
    "\n",
    "\n",
    "dot_data = export_graphviz(gbc.estimators_[0,0], out_file=None,\n",
    "                           feature_names=feature_names,\n",
    "                           class_names=['yes','no'],\n",
    "                                filled=True, rounded=True,\n",
    "                                special_characters=True)\n",
    "graph = graphviz.Source(dot_data)\n",
    "graph.render(\"gbc\")\n"
   ]
  },
  {
   "cell_type": "code",
   "execution_count": null,
   "metadata": {},
   "outputs": [],
   "source": []
  }
 ],
 "metadata": {
  "kernelspec": {
   "display_name": "Python 3",
   "language": "python",
   "name": "python3"
  },
  "language_info": {
   "codemirror_mode": {
    "name": "ipython",
    "version": 3
   },
   "file_extension": ".py",
   "mimetype": "text/x-python",
   "name": "python",
   "nbconvert_exporter": "python",
   "pygments_lexer": "ipython3",
   "version": "3.11.4"
  }
 },
 "nbformat": 4,
 "nbformat_minor": 2
}
