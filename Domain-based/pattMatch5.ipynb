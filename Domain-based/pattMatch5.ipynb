{
 "cells": [
  {
   "cell_type": "code",
   "execution_count": 5,
   "metadata": {},
   "outputs": [
    {
     "name": "stdout",
     "output_type": "stream",
     "text": [
      "absent\n",
      "['youttube.com' 0.7407407407407407]\n",
      "['youtub.com' 0.72]\n",
      "['yuotub.com' 0.72]\n",
      "['yutube.com' 0.72]\n",
      "['youtube23.com' 0.7142857142857143]\n",
      "['tttt.com' 0.6956521739130435]\n",
      "['youtube.com' 0.6923076923076923]\n",
      "['youtubr.com' 0.6923076923076923]\n",
      "['yutoube.com' 0.6923076923076923]\n",
      "['yuotubu.com' 0.6923076923076923]\n"
     ]
    }
   ],
   "source": [
    "import numpy as np\n",
    "import pandas as pd\n",
    "from difflib import SequenceMatcher\n",
    "\n",
    "def isSimilar(sitename):\n",
    "    #read whitelist\n",
    "    whitelist =  pd.read_csv(\"./top10milliondomains.csv\")\n",
    "    whitelist[\"Domain\"] = whitelist[\"Domain\"].str.lstrip(\"  \")\n",
    "    whitelist_array = whitelist[\"Domain\"].values\n",
    "\n",
    "    #create 2d array with columns domain name and similarity index\n",
    "    new_whitelist_array = np.zeros((len(whitelist_array), 2), dtype='object')\n",
    "    new_whitelist_array[:, 0] = whitelist_array\n",
    "\n",
    "    #if legit exit if not continue\n",
    "    if sitename not in whitelist_array:\n",
    "        print(\"absent\")\n",
    "    else:\n",
    "        print(sitename +\" is present\")\n",
    "        exit()\n",
    "\n",
    "    #compare every character of input name and sitename\n",
    "    for i in range(len(new_whitelist_array)):\n",
    "        new_whitelist_array[i][1] = SequenceMatcher(None, new_whitelist_array[i][0], sitename).ratio()\n",
    "\n",
    "    '''#find maximum and display\n",
    "    max=0\n",
    "    for i in range(len(new_whitelist_array)):\n",
    "        if new_whitelist_array[i][1]>new_whitelist_array[max][1]: #and len(new_whitelist_array[max][0])>=new_whitelist_array[max][1]:\n",
    "            max = i'''\n",
    "\n",
    "    #percent=((new_whitelist_array[max][1])/len(new_whitelist_array[max][0]))*100\n",
    "\n",
    "    new_whitelist_array = sorted(new_whitelist_array, key=lambda x: x[1], reverse=True)\n",
    "\n",
    "    #print(\"resembles \"+ new_whitelist_array[max][0]+\" by \"+str(new_whitelist_array[max][1]))\n",
    "\n",
    "    for row in new_whitelist_array[:10]:\n",
    "        print(row)\n",
    "\n",
    "isSimilar(\"y0utttttub3.com\")"
   ]
  },
  {
   "cell_type": "code",
   "execution_count": null,
   "metadata": {},
   "outputs": [],
   "source": []
  },
  {
   "cell_type": "code",
   "execution_count": null,
   "metadata": {},
   "outputs": [],
   "source": []
  }
 ],
 "metadata": {
  "kernelspec": {
   "display_name": "Python 3",
   "language": "python",
   "name": "python3"
  },
  "language_info": {
   "codemirror_mode": {
    "name": "ipython",
    "version": 3
   },
   "file_extension": ".py",
   "mimetype": "text/x-python",
   "name": "python",
   "nbconvert_exporter": "python",
   "pygments_lexer": "ipython3",
   "version": "3.11.4"
  }
 },
 "nbformat": 4,
 "nbformat_minor": 2
}
