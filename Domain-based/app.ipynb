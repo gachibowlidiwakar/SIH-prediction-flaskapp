{
 "cells": [
  {
   "cell_type": "code",
   "execution_count": 2,
   "metadata": {},
   "outputs": [
    {
     "name": "stdout",
     "output_type": "stream",
     "text": [
      "             Rank                Domain  Open Page Rank\n",
      "0               1          facebook.com           10.00\n",
      "1               2  fonts.googleapis.com           10.00\n",
      "2               3            google.com           10.00\n",
      "3               4           youtube.com           10.00\n",
      "4               5           twitter.com           10.00\n",
      "...           ...                   ...             ...\n",
      "9999995   9999996     mckelveyhomes.com            2.88\n",
      "9999996   9999997      naomibenaron.com            2.88\n",
      "9999997   9999998  traininghousegym.com            2.88\n",
      "9999998   9999999         tunechord.com            2.88\n",
      "9999999  10000000           kitchenz.in            2.88\n",
      "\n",
      "[10000000 rows x 3 columns]\n"
     ]
    }
   ],
   "source": [
    "# Import necessary libraries\n",
    "import pandas as pd\n",
    "from urllib.parse import urlparse\n",
    "from sklearn.model_selection import train_test_split\n",
    "from sklearn.neural_network import MLPClassifier\n",
    "from sklearn.metrics import classification_report\n",
    "from keras.preprocessing.text import Tokenizer\n",
    "from keras.utils import pad_sequences\n",
    "import numpy as np\n",
    "\n",
    "# Load your dataset\n",
    "# Note: You'll need to load your dataset here. This is just a placeholder.\n",
    "top_sites_df = pd.read_csv('./top10milliondomains.csv')\n",
    "print(top_sites_df)"
   ]
  },
  {
   "cell_type": "code",
   "execution_count": 4,
   "metadata": {},
   "outputs": [
    {
     "name": "stdout",
     "output_type": "stream",
     "text": [
      "            tld                        Domain Results Category\n",
      "0         .buzz                       turtles                 \n",
      "1          .net                         docrd                 \n",
      "2         .live                    paytaghigh                 \n",
      "3          .com                        gixznz                 \n",
      "4          .com                        ffsyfg                 \n",
      "...         ...                           ...     ...      ...\n",
      "100001     .gay  iambetteratgooningandrizzing                 \n",
      "100002     .com                        ejdu4k                 \n",
      "100003     .cam                      camphoto                 \n",
      "100004  .online                yogaguesthouse                 \n",
      "100005  .online                   diaocduchoa                 \n",
      "\n",
      "[100006 rows x 4 columns]\n"
     ]
    }
   ],
   "source": [
    "import pandas as pd\n",
    "\n",
    "# Read domain names from the file\n",
    "with open(\"domain-names.txt\", \"r\") as f:\n",
    "    domain_names = f.read().splitlines()\n",
    "\n",
    "# Initialize empty lists for storing results\n",
    "domains = []\n",
    "tlds = []\n",
    "results = []\n",
    "categories = []\n",
    "\n",
    "# Process each domain name\n",
    "for domain in domain_names:\n",
    "    parts = domain.split(\".\")\n",
    "    \n",
    "    # Handle .gov.in domains specifically\n",
    "    if parts[-2] == \"gov\" and parts[-1] == \"in\":\n",
    "        tld = \".\".join(parts[-2:])  # Combine last two parts for TLD\n",
    "        domain = parts[:-2] + [\".\"]  # Keep the dot before \"gov\"\n",
    "    else:\n",
    "        tld = \".\" + parts[-1]\n",
    "        domain = parts[:-1]\n",
    "    \n",
    "    # Append results to respective lists\n",
    "    domains.append(\".\".join(domain))\n",
    "    tlds.append(tld)\n",
    "    results.append(\"\")\n",
    "    categories.append(\"\")\n",
    "\n",
    "# Create a DataFrame from the lists\n",
    "output_data = pd.DataFrame(list(zip(tlds, domains, results, categories)), columns=[\"tld\", \"Domain\", \"Results\", \"Category\"])\n",
    "\n",
    "# Print the DataFrame\n",
    "print(output_data)\n"
   ]
  },
  {
   "cell_type": "code",
   "execution_count": 6,
   "metadata": {},
   "outputs": [],
   "source": [
    "top_level_domains = ['.org', '.edu', '.gov', '.mil', '.net', '.int', '.gov.in']\n",
    "categories = {'.gov': 'Government', '.edu': 'Education','.mil':'Military','.net': 'Network','.int': 'Intergovernment Treaty','.org': 'Organization','.gov.in':'Indian Government'}"
   ]
  },
  {
   "cell_type": "code",
   "execution_count": 7,
   "metadata": {},
   "outputs": [],
   "source": [
    "# Flag all the TLDs as \"Not Phishing\"\n",
    "mask = output_data['tld'].isin(top_level_domains)\n",
    "output_data.loc[mask,'Results'] = \"Not Phishing\"\n",
    "output_data['Category'] = output_data['tld'].apply(lambda x: categories.get(x, ''))"
   ]
  },
  {
   "cell_type": "code",
   "execution_count": 8,
   "metadata": {},
   "outputs": [
    {
     "data": {
      "text/html": [
       "<div>\n",
       "<style scoped>\n",
       "    .dataframe tbody tr th:only-of-type {\n",
       "        vertical-align: middle;\n",
       "    }\n",
       "\n",
       "    .dataframe tbody tr th {\n",
       "        vertical-align: top;\n",
       "    }\n",
       "\n",
       "    .dataframe thead th {\n",
       "        text-align: right;\n",
       "    }\n",
       "</style>\n",
       "<table border=\"1\" class=\"dataframe\">\n",
       "  <thead>\n",
       "    <tr style=\"text-align: right;\">\n",
       "      <th></th>\n",
       "      <th>tld</th>\n",
       "      <th>Domain</th>\n",
       "      <th>Results</th>\n",
       "      <th>Category</th>\n",
       "    </tr>\n",
       "  </thead>\n",
       "  <tbody>\n",
       "    <tr>\n",
       "      <th>0</th>\n",
       "      <td>.buzz</td>\n",
       "      <td>turtles</td>\n",
       "      <td></td>\n",
       "      <td></td>\n",
       "    </tr>\n",
       "    <tr>\n",
       "      <th>1</th>\n",
       "      <td>.net</td>\n",
       "      <td>docrd</td>\n",
       "      <td>Not Phishing</td>\n",
       "      <td>Network</td>\n",
       "    </tr>\n",
       "    <tr>\n",
       "      <th>2</th>\n",
       "      <td>.live</td>\n",
       "      <td>paytaghigh</td>\n",
       "      <td></td>\n",
       "      <td></td>\n",
       "    </tr>\n",
       "    <tr>\n",
       "      <th>3</th>\n",
       "      <td>.com</td>\n",
       "      <td>gixznz</td>\n",
       "      <td></td>\n",
       "      <td></td>\n",
       "    </tr>\n",
       "    <tr>\n",
       "      <th>4</th>\n",
       "      <td>.com</td>\n",
       "      <td>ffsyfg</td>\n",
       "      <td></td>\n",
       "      <td></td>\n",
       "    </tr>\n",
       "  </tbody>\n",
       "</table>\n",
       "</div>"
      ],
      "text/plain": [
       "     tld      Domain       Results Category\n",
       "0  .buzz     turtles                       \n",
       "1   .net       docrd  Not Phishing  Network\n",
       "2  .live  paytaghigh                       \n",
       "3   .com      gixznz                       \n",
       "4   .com      ffsyfg                       "
      ]
     },
     "execution_count": 8,
     "metadata": {},
     "output_type": "execute_result"
    }
   ],
   "source": [
    "output_data.head()"
   ]
  },
  {
   "cell_type": "code",
   "execution_count": null,
   "metadata": {},
   "outputs": [],
   "source": [
    "\n",
    "\n",
    "\n",
    "#remove tld from domain-name input dataset\n",
    "\n",
    "output_data['domain'] = separate_tld(output_data['domain'])\n",
    "print(output_data)\n",
    "#check if the function works correctly by comparing it to a known result\n",
    "print(output_data['domain'][0])\n",
    "print(output_data['domain'][1])\n"
   ]
  },
  {
   "cell_type": "code",
   "execution_count": 7,
   "metadata": {},
   "outputs": [
    {
     "ename": "SyntaxError",
     "evalue": "unterminated string literal (detected at line 6) (1610225162.py, line 6)",
     "output_type": "error",
     "traceback": [
      "\u001b[1;36m  Cell \u001b[1;32mIn[7], line 6\u001b[1;36m\u001b[0m\n\u001b[1;33m    print(f\"TLD {tld} is flagged as {flag}\u001b[0m\n\u001b[1;37m          ^\u001b[0m\n\u001b[1;31mSyntaxError\u001b[0m\u001b[1;31m:\u001b[0m unterminated string literal (detected at line 6)\n"
     ]
    }
   ],
   "source": [
    "# Flag all the TLDs as \"Not Phishing\"\n",
    "for tld in top_level_domains:\n",
    "    output_data[tld] = \"Not Phishing\"\n",
    "    # Perform any additional logic or operations here\n",
    "    \n",
    "    "
   ]
  },
  {
   "cell_type": "code",
   "execution_count": 6,
   "metadata": {},
   "outputs": [],
   "source": [
    "#remaining websites store and compare with top 10 million data if present Not Phishing \n"
   ]
  },
  {
   "cell_type": "code",
   "execution_count": null,
   "metadata": {},
   "outputs": [],
   "source": [
    "#last remaining websites pass to pattern matching /getsimilarity"
   ]
  },
  {
   "cell_type": "code",
   "execution_count": null,
   "metadata": {},
   "outputs": [],
   "source": []
  },
  {
   "cell_type": "code",
   "execution_count": null,
   "metadata": {},
   "outputs": [],
   "source": [
    "#threshold level above 60% -> /getcontent (scraper) and store the content "
   ]
  },
  {
   "cell_type": "code",
   "execution_count": null,
   "metadata": {},
   "outputs": [],
   "source": []
  },
  {
   "cell_type": "code",
   "execution_count": null,
   "metadata": {},
   "outputs": [],
   "source": [
    "# Main Application Logic\n",
    "# This is a placeholder for the main application logic\n",
    "if __name__ == '__main__':\n",
    "    # Example usage\n",
    "    input_domain = 'example.com'\n",
    "    is_phishing = predict_phishing(input_domain)\n",
    "    print(f\"Domain {input_domain} is {'phishing' if is_phishing else 'not phishing'}\")"
   ]
  }
 ],
 "metadata": {
  "kernelspec": {
   "display_name": "Python 3",
   "language": "python",
   "name": "python3"
  },
  "language_info": {
   "codemirror_mode": {
    "name": "ipython",
    "version": 3
   },
   "file_extension": ".py",
   "mimetype": "text/x-python",
   "name": "python",
   "nbconvert_exporter": "python",
   "pygments_lexer": "ipython3",
   "version": "3.11.4"
  }
 },
 "nbformat": 4,
 "nbformat_minor": 2
}
