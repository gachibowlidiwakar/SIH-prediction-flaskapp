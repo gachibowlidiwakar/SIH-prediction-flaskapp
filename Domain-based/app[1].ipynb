{
 "cells": [
  {
   "cell_type": "code",
   "execution_count": 1,
   "metadata": {},
   "outputs": [
    {
     "name": "stdout",
     "output_type": "stream",
     "text": [
      "             Rank                Domain  Open Page Rank\n",
      "0               1          facebook.com           10.00\n",
      "1               2  fonts.googleapis.com           10.00\n",
      "2               3            google.com           10.00\n",
      "3               4           youtube.com           10.00\n",
      "4               5           twitter.com           10.00\n",
      "...           ...                   ...             ...\n",
      "9999995   9999996     mckelveyhomes.com            2.88\n",
      "9999996   9999997      naomibenaron.com            2.88\n",
      "9999997   9999998  traininghousegym.com            2.88\n",
      "9999998   9999999         tunechord.com            2.88\n",
      "9999999  10000000           kitchenz.in            2.88\n",
      "\n",
      "[10000000 rows x 3 columns]\n"
     ]
    }
   ],
   "source": [
    "# Import necessary libraries\n",
    "import pandas as pd\n",
    "from urllib.parse import urlparse\n",
    "from sklearn.model_selection import train_test_split\n",
    "from sklearn.neural_network import MLPClassifier\n",
    "from sklearn.metrics import classification_report\n",
    "from keras.preprocessing.text import Tokenizer\n",
    "from keras.utils import pad_sequences\n",
    "import numpy as np\n",
    "\n",
    "# Load your dataset\n",
    "# Note: You'll need to load your dataset here. This is just a placeholder.\n",
    "top_sites_df = pd.read_csv('./top10milliondomains.csv')\n",
    "print(top_sites_df)"
   ]
  },
  {
   "cell_type": "code",
   "execution_count": 2,
   "metadata": {},
   "outputs": [
    {
     "name": "stdout",
     "output_type": "stream",
     "text": [
      "            tld                        Domain Results Category\n",
      "0         .buzz                       turtles                 \n",
      "1          .net                         docrd                 \n",
      "2         .live                    paytaghigh                 \n",
      "3          .com                        gixznz                 \n",
      "4          .com                        ffsyfg                 \n",
      "...         ...                           ...     ...      ...\n",
      "100001     .gay  iambetteratgooningandrizzing                 \n",
      "100002     .com                        ejdu4k                 \n",
      "100003     .cam                      camphoto                 \n",
      "100004  .online                yogaguesthouse                 \n",
      "100005  .online                   diaocduchoa                 \n",
      "\n",
      "[100006 rows x 4 columns]\n"
     ]
    }
   ],
   "source": [
    "import pandas as pd\n",
    "\n",
    "# Read domain names from the file\n",
    "with open(\"domain-names.txt\", \"r\") as f:\n",
    "    domain_names = f.read().splitlines()\n",
    "\n",
    "# Initialize empty lists for storing results\n",
    "domains = []\n",
    "tlds = []\n",
    "results = []\n",
    "categories = []\n",
    "\n",
    "# Process each domain name\n",
    "for domain in domain_names:\n",
    "    parts = domain.split(\".\")\n",
    "    \n",
    "    # Handle .gov.in domains specifically\n",
    "    if parts[-2] == \"gov\" and parts[-1] == \"in\":\n",
    "        tld = \".\".join(parts[-2:])  # Combine last two parts for TLD\n",
    "        domain = parts[:-2] + [\".\"]  # Keep the dot before \"gov\"\n",
    "    else:\n",
    "        tld = \".\" + parts[-1]\n",
    "        domain = parts[:-1]\n",
    "    \n",
    "    # Append results to respective lists\n",
    "    domains.append(\".\".join(domain))\n",
    "    tlds.append(tld)\n",
    "    results.append(\"\")\n",
    "    categories.append(\"\")\n",
    "\n",
    "# Create a DataFrame from the lists\n",
    "output_data = pd.DataFrame(list(zip(tlds, domains, results, categories)), columns=[\"tld\", \"Domain\", \"Results\", \"Category\"])\n",
    "\n",
    "# Print the DataFrame\n",
    "print(output_data)\n"
   ]
  },
  {
   "cell_type": "code",
   "execution_count": 3,
   "metadata": {},
   "outputs": [],
   "source": [
    "top_level_domains = ['.org', '.edu', '.gov', '.mil', '.net', '.int', '.gov.in']\n",
    "categories = {'.gov': 'Government', '.edu': 'Education','.mil':'Military','.net': 'Network','.int': 'Intergovernment Treaty','.org': 'Organization','.gov.in':'Indian Government'}"
   ]
  },
  {
   "cell_type": "code",
   "execution_count": 4,
   "metadata": {},
   "outputs": [],
   "source": [
    "# Flag all the TLDs as \"Not Phishing\"\n",
    "mask = output_data['tld'].isin(top_level_domains)\n",
    "output_data.loc[mask,'Results'] = \"Not Phishing\"\n",
    "output_data['Category'] = output_data['tld'].apply(lambda x: categories.get(x, ''))"
   ]
  },
  {
   "cell_type": "code",
   "execution_count": 5,
   "metadata": {},
   "outputs": [
    {
     "data": {
      "text/html": [
       "<div>\n",
       "<style scoped>\n",
       "    .dataframe tbody tr th:only-of-type {\n",
       "        vertical-align: middle;\n",
       "    }\n",
       "\n",
       "    .dataframe tbody tr th {\n",
       "        vertical-align: top;\n",
       "    }\n",
       "\n",
       "    .dataframe thead th {\n",
       "        text-align: right;\n",
       "    }\n",
       "</style>\n",
       "<table border=\"1\" class=\"dataframe\">\n",
       "  <thead>\n",
       "    <tr style=\"text-align: right;\">\n",
       "      <th></th>\n",
       "      <th>tld</th>\n",
       "      <th>Domain</th>\n",
       "      <th>Results</th>\n",
       "      <th>Category</th>\n",
       "    </tr>\n",
       "  </thead>\n",
       "  <tbody>\n",
       "    <tr>\n",
       "      <th>0</th>\n",
       "      <td>.buzz</td>\n",
       "      <td>turtles</td>\n",
       "      <td></td>\n",
       "      <td></td>\n",
       "    </tr>\n",
       "    <tr>\n",
       "      <th>1</th>\n",
       "      <td>.net</td>\n",
       "      <td>docrd</td>\n",
       "      <td>Not Phishing</td>\n",
       "      <td>Network</td>\n",
       "    </tr>\n",
       "    <tr>\n",
       "      <th>2</th>\n",
       "      <td>.live</td>\n",
       "      <td>paytaghigh</td>\n",
       "      <td></td>\n",
       "      <td></td>\n",
       "    </tr>\n",
       "    <tr>\n",
       "      <th>3</th>\n",
       "      <td>.com</td>\n",
       "      <td>gixznz</td>\n",
       "      <td></td>\n",
       "      <td></td>\n",
       "    </tr>\n",
       "    <tr>\n",
       "      <th>4</th>\n",
       "      <td>.com</td>\n",
       "      <td>ffsyfg</td>\n",
       "      <td></td>\n",
       "      <td></td>\n",
       "    </tr>\n",
       "  </tbody>\n",
       "</table>\n",
       "</div>"
      ],
      "text/plain": [
       "     tld      Domain       Results Category\n",
       "0  .buzz     turtles                       \n",
       "1   .net       docrd  Not Phishing  Network\n",
       "2  .live  paytaghigh                       \n",
       "3   .com      gixznz                       \n",
       "4   .com      ffsyfg                       "
      ]
     },
     "execution_count": 5,
     "metadata": {},
     "output_type": "execute_result"
    }
   ],
   "source": [
    "output_data.head()"
   ]
  },
  {
   "cell_type": "code",
   "execution_count": 6,
   "metadata": {},
   "outputs": [],
   "source": [
    "#Loading the 10 million dataset.xlsx\n",
    "toplevel=pd.read_csv('top10milliondomains.csv')"
   ]
  },
  {
   "cell_type": "code",
   "execution_count": 7,
   "metadata": {},
   "outputs": [
    {
     "data": {
      "text/html": [
       "<div>\n",
       "<style scoped>\n",
       "    .dataframe tbody tr th:only-of-type {\n",
       "        vertical-align: middle;\n",
       "    }\n",
       "\n",
       "    .dataframe tbody tr th {\n",
       "        vertical-align: top;\n",
       "    }\n",
       "\n",
       "    .dataframe thead th {\n",
       "        text-align: right;\n",
       "    }\n",
       "</style>\n",
       "<table border=\"1\" class=\"dataframe\">\n",
       "  <thead>\n",
       "    <tr style=\"text-align: right;\">\n",
       "      <th></th>\n",
       "      <th>Rank</th>\n",
       "      <th>Domain</th>\n",
       "      <th>Open Page Rank</th>\n",
       "    </tr>\n",
       "  </thead>\n",
       "  <tbody>\n",
       "    <tr>\n",
       "      <th>0</th>\n",
       "      <td>1</td>\n",
       "      <td>facebook.com</td>\n",
       "      <td>10.0</td>\n",
       "    </tr>\n",
       "    <tr>\n",
       "      <th>1</th>\n",
       "      <td>2</td>\n",
       "      <td>fonts.googleapis.com</td>\n",
       "      <td>10.0</td>\n",
       "    </tr>\n",
       "    <tr>\n",
       "      <th>2</th>\n",
       "      <td>3</td>\n",
       "      <td>google.com</td>\n",
       "      <td>10.0</td>\n",
       "    </tr>\n",
       "    <tr>\n",
       "      <th>3</th>\n",
       "      <td>4</td>\n",
       "      <td>youtube.com</td>\n",
       "      <td>10.0</td>\n",
       "    </tr>\n",
       "    <tr>\n",
       "      <th>4</th>\n",
       "      <td>5</td>\n",
       "      <td>twitter.com</td>\n",
       "      <td>10.0</td>\n",
       "    </tr>\n",
       "  </tbody>\n",
       "</table>\n",
       "</div>"
      ],
      "text/plain": [
       "   Rank                Domain  Open Page Rank\n",
       "0     1          facebook.com            10.0\n",
       "1     2  fonts.googleapis.com            10.0\n",
       "2     3            google.com            10.0\n",
       "3     4           youtube.com            10.0\n",
       "4     5           twitter.com            10.0"
      ]
     },
     "execution_count": 7,
     "metadata": {},
     "output_type": "execute_result"
    }
   ],
   "source": [
    "toplevel.head()"
   ]
  },
  {
   "cell_type": "code",
   "execution_count": 8,
   "metadata": {},
   "outputs": [],
   "source": [
    "#remaining websites store and compare with top 10 million data if present Not Phishing \n",
    "matched_domains = output_data['Domain'] + output_data['tld']\n",
    "is_phishing = ~toplevel['Domain'].isin(matched_domains)\n",
    "output_data.loc[~is_phishing, 'Results'] = \"Not Phishing\""
   ]
  },
  {
   "cell_type": "code",
   "execution_count": 12,
   "metadata": {},
   "outputs": [
    {
     "data": {
      "text/html": [
       "<div>\n",
       "<style scoped>\n",
       "    .dataframe tbody tr th:only-of-type {\n",
       "        vertical-align: middle;\n",
       "    }\n",
       "\n",
       "    .dataframe tbody tr th {\n",
       "        vertical-align: top;\n",
       "    }\n",
       "\n",
       "    .dataframe thead th {\n",
       "        text-align: right;\n",
       "    }\n",
       "</style>\n",
       "<table border=\"1\" class=\"dataframe\">\n",
       "  <thead>\n",
       "    <tr style=\"text-align: right;\">\n",
       "      <th></th>\n",
       "      <th>tld</th>\n",
       "      <th>Domain</th>\n",
       "      <th>Results</th>\n",
       "      <th>Category</th>\n",
       "    </tr>\n",
       "  </thead>\n",
       "  <tbody>\n",
       "    <tr>\n",
       "      <th>0</th>\n",
       "      <td>.buzz</td>\n",
       "      <td>turtles</td>\n",
       "      <td></td>\n",
       "      <td></td>\n",
       "    </tr>\n",
       "    <tr>\n",
       "      <th>1</th>\n",
       "      <td>.net</td>\n",
       "      <td>docrd</td>\n",
       "      <td>Not Phishing</td>\n",
       "      <td>Network</td>\n",
       "    </tr>\n",
       "    <tr>\n",
       "      <th>2</th>\n",
       "      <td>.live</td>\n",
       "      <td>paytaghigh</td>\n",
       "      <td></td>\n",
       "      <td></td>\n",
       "    </tr>\n",
       "    <tr>\n",
       "      <th>3</th>\n",
       "      <td>.com</td>\n",
       "      <td>gixznz</td>\n",
       "      <td></td>\n",
       "      <td></td>\n",
       "    </tr>\n",
       "    <tr>\n",
       "      <th>4</th>\n",
       "      <td>.com</td>\n",
       "      <td>ffsyfg</td>\n",
       "      <td></td>\n",
       "      <td></td>\n",
       "    </tr>\n",
       "  </tbody>\n",
       "</table>\n",
       "</div>"
      ],
      "text/plain": [
       "     tld      Domain       Results Category\n",
       "0  .buzz     turtles                       \n",
       "1   .net       docrd  Not Phishing  Network\n",
       "2  .live  paytaghigh                       \n",
       "3   .com      gixznz                       \n",
       "4   .com      ffsyfg                       "
      ]
     },
     "execution_count": 12,
     "metadata": {},
     "output_type": "execute_result"
    }
   ],
   "source": [
    "#print output data\n",
    "output_data.head()"
   ]
  },
  {
   "cell_type": "code",
   "execution_count": 29,
   "metadata": {},
   "outputs": [],
   "source": []
  },
  {
   "cell_type": "code",
   "execution_count": 32,
   "metadata": {},
   "outputs": [
    {
     "name": "stdout",
     "output_type": "stream",
     "text": [
      "Parent: axisbank.com, Closest Children within tolerance 9 (excluding level 1 matches): ['abimalcom', 'anisaudio', 'aihanako', 'newsbanglanow', 'xdpiaopiao']\n",
      "Parent: bandhanbank.com, Closest Children within tolerance 9 (excluding level 1 matches): ['aihanako']\n",
      "Parent: csb.co.in, Closest Children within tolerance 9 (excluding level 1 matches): ['abimalcom', 'anisaudio', 'aihanako', 'xdpiaopiao', 'sa1ed2q', 'serpzud', 'ejdu4k', 'camphoto', 'dustmate', 'diktolie', 'fqr25', 'tq1215', '09405', 'mljmfd']\n",
      "Parent: cityunionbank.com, Closest Children within tolerance 9 (excluding level 1 matches): []\n",
      "Parent: dcbbank.com, Closest Children within tolerance 9 (excluding level 1 matches): ['abimalcom', 'anisaudio', 'aihanako', 'newsbanglanow', 'xdpiaopiao', 'diaocduchoa', 'camphoto']\n",
      "Parent: dhanbank.com, Closest Children within tolerance 9 (excluding level 1 matches): ['abimalcom', 'anisaudio', 'aihanako', 'newsbanglanow', 'diaocduchoa']\n",
      "Parent: federalbank.co.in, Closest Children within tolerance 9 (excluding level 1 matches): []\n",
      "Parent: hdfcbank.com, Closest Children within tolerance 9 (excluding level 1 matches): ['abimalcom', 'aihanako', 'newsbanglanow', 'xdpiaopiao']\n",
      "Parent: icicibank.com, Closest Children within tolerance 9 (excluding level 1 matches): ['abimalcom', 'aihanako']\n",
      "Parent: indusind.com, Closest Children within tolerance 9 (excluding level 1 matches): ['abimalcom', 'anisaudio', 'diaocduchoa', 'dustmate']\n",
      "Parent: idfcfirstbank.com, Closest Children within tolerance 9 (excluding level 1 matches): []\n",
      "Parent: jkbank.com, Closest Children within tolerance 9 (excluding level 1 matches): ['abimalcom', 'anisaudio', 'aihanako', 'newsbanglanow', 'xdpiaopiao', 'sa1ed2q', 'diaocduchoa', 'ejdu4k', 'camphoto']\n",
      "Parent: karnatakabank.com, Closest Children within tolerance 9 (excluding level 1 matches): []\n",
      "Parent: kvb.co.in, Closest Children within tolerance 9 (excluding level 1 matches): ['abimalcom', 'anisaudio', 'aihanako', 'xdpiaopiao', 'sa1ed2q', 'serpzud', 'ejdu4k', 'camphoto', 'dustmate', 'diktolie', 'fqr25', 'tq1215', '09405', 'mljmfd']\n",
      "Parent: kotak.com, Closest Children within tolerance 9 (excluding level 1 matches): ['abimalcom', 'anisaudio', 'aihanako', 'xdpiaopiao', 'sa1ed2q', 'diaocduchoa', 'serpzud', 'ejdu4k', 'camphoto', 'dustmate', 'diktolie', 'fqr25', 'tq1215', '09405', 'mljmfd']\n",
      "Parent: nainitalbank.co.in, Closest Children within tolerance 9 (excluding level 1 matches): []\n",
      "Parent: rblbank.com, Closest Children within tolerance 9 (excluding level 1 matches): ['abimalcom', 'anisaudio', 'aihanako', 'newsbanglanow', 'xdpiaopiao']\n",
      "Parent: southindianbank.com, Closest Children within tolerance 9 (excluding level 1 matches): []\n",
      "Parent: tmb.in, Closest Children within tolerance 9 (excluding level 1 matches): ['abimalcom', 'anisaudio', 'aihanako', 'xdpiaopiao', 'sa1ed2q', 'serpzud', 'ejdu4k', 'camphoto', 'dustmate', 'diktolie', 'fqr25', 'tq1215', '09405', 'mljmfd']\n",
      "Parent: yesbank.in, Closest Children within tolerance 9 (excluding level 1 matches): ['abimalcom', 'anisaudio', 'aihanako', 'newsbanglanow', 'xdpiaopiao', 'sa1ed2q', 'serpzud', 'ejdu4k', 'dustmate', 'diktolie']\n",
      "Parent: idbibank.in, Closest Children within tolerance 9 (excluding level 1 matches): ['abimalcom', 'anisaudio', 'aihanako', 'newsbanglanow', 'xdpiaopiao', 'diktolie']\n"
     ]
    }
   ],
   "source": [
    "#!pip install requests\n",
    "import requests\n",
    "\n",
    "YOUR_GENERATED_SECRET = \"itJ0LYWzC04rSC0STEOf:e3bff64f581ce5c77a130dddd63c11c5bad049fcc3fb418b16b114955ffab213\"\n",
    "\n",
    "url = \"https://api.promptperfect.jina.ai/optimize\"\n",
    "\n",
    "headers = {\n",
    "    \"x-api-key\": f\"token {YOUR_GENERATED_SECRET}\",\n",
    "    \"Content-Type\": \"application/json\"\n",
    "}\n",
    "\n",
    "payload = {\n",
    "    \"data\": {\n",
    "        \"prompt\": \"Given the Domain name of the website predict whether the given website seems phishy it not - Compare with other existing top ranked websites - the input phishing sites are mainly bank websites , hospital websites, irctc and travel websites of India - the output should be Phishing or Non phishing - When in doubt whether is is phishing or not give the Non Phishing title You scrape the official websites from the internet and compare with original domain name and title -sbirecruit.in, banksbi.in, icicirewards.online, icicicardservices.in\",\n",
    "        \"targetModel\": \"chatgpt\"\n",
    "    }\n",
    "}\n",
    "\n",
    "response = requests.post(url, headers=headers, json=payload)\n",
    "print(response.json())\n"
   ]
  },
  {
   "cell_type": "code",
   "execution_count": 33,
   "metadata": {},
   "outputs": [
    {
     "name": "stdout",
     "output_type": "stream",
     "text": [
      "{'axisbank.com': ['abimalcom', 'anisaudio', 'aihanako', 'newsbanglanow', 'xdpiaopiao'], 'bandhanbank.com': ['aihanako'], 'csb.co.in': ['abimalcom', 'anisaudio', 'aihanako', 'xdpiaopiao', 'sa1ed2q', 'serpzud', 'ejdu4k', 'camphoto', 'dustmate', 'diktolie', 'fqr25', 'tq1215', '09405', 'mljmfd'], 'cityunionbank.com': [], 'dcbbank.com': ['abimalcom', 'anisaudio', 'aihanako', 'newsbanglanow', 'xdpiaopiao', 'diaocduchoa', 'camphoto'], 'dhanbank.com': ['abimalcom', 'anisaudio', 'aihanako', 'newsbanglanow', 'diaocduchoa'], 'federalbank.co.in': [], 'hdfcbank.com': ['abimalcom', 'aihanako', 'newsbanglanow', 'xdpiaopiao'], 'icicibank.com': ['abimalcom', 'aihanako'], 'indusind.com': ['abimalcom', 'anisaudio', 'diaocduchoa', 'dustmate'], 'idfcfirstbank.com': [], 'jkbank.com': ['abimalcom', 'anisaudio', 'aihanako', 'newsbanglanow', 'xdpiaopiao', 'sa1ed2q', 'diaocduchoa', 'ejdu4k', 'camphoto'], 'karnatakabank.com': [], 'kvb.co.in': ['abimalcom', 'anisaudio', 'aihanako', 'xdpiaopiao', 'sa1ed2q', 'serpzud', 'ejdu4k', 'camphoto', 'dustmate', 'diktolie', 'fqr25', 'tq1215', '09405', 'mljmfd'], 'kotak.com': ['abimalcom', 'anisaudio', 'aihanako', 'xdpiaopiao', 'sa1ed2q', 'diaocduchoa', 'serpzud', 'ejdu4k', 'camphoto', 'dustmate', 'diktolie', 'fqr25', 'tq1215', '09405', 'mljmfd'], 'nainitalbank.co.in': [], 'rblbank.com': ['abimalcom', 'anisaudio', 'aihanako', 'newsbanglanow', 'xdpiaopiao'], 'southindianbank.com': [], 'tmb.in': ['abimalcom', 'anisaudio', 'aihanako', 'xdpiaopiao', 'sa1ed2q', 'serpzud', 'ejdu4k', 'camphoto', 'dustmate', 'diktolie', 'fqr25', 'tq1215', '09405', 'mljmfd'], 'yesbank.in': ['abimalcom', 'anisaudio', 'aihanako', 'newsbanglanow', 'xdpiaopiao', 'sa1ed2q', 'serpzud', 'ejdu4k', 'dustmate', 'diktolie'], 'idbibank.in': ['abimalcom', 'anisaudio', 'aihanako', 'newsbanglanow', 'xdpiaopiao', 'diktolie']}\n"
     ]
    }
   ],
   "source": [
    "print(parent_children_dict)"
   ]
  },
  {
   "cell_type": "code",
   "execution_count": 16,
   "metadata": {},
   "outputs": [
    {
     "name": "stdout",
     "output_type": "stream",
     "text": [
      "<Response [200]>\n"
     ]
    }
   ],
   "source": [
    "#print response\n",
    "print(response.json())"
   ]
  },
  {
   "cell_type": "code",
   "execution_count": 10,
   "metadata": {},
   "outputs": [],
   "source": [
    "#threshold level above 60% -> /getcontent (scraper) and store the content "
   ]
  },
  {
   "cell_type": "code",
   "execution_count": null,
   "metadata": {},
   "outputs": [],
   "source": []
  },
  {
   "cell_type": "code",
   "execution_count": 11,
   "metadata": {},
   "outputs": [
    {
     "ename": "NameError",
     "evalue": "name 'predict_phishing' is not defined",
     "output_type": "error",
     "traceback": [
      "\u001b[1;31m---------------------------------------------------------------------------\u001b[0m",
      "\u001b[1;31mNameError\u001b[0m                                 Traceback (most recent call last)",
      "Cell \u001b[1;32mIn[11], line 6\u001b[0m\n\u001b[0;32m      3\u001b[0m \u001b[38;5;28;01mif\u001b[39;00m \u001b[38;5;18m__name__\u001b[39m \u001b[38;5;241m==\u001b[39m \u001b[38;5;124m'\u001b[39m\u001b[38;5;124m__main__\u001b[39m\u001b[38;5;124m'\u001b[39m:\n\u001b[0;32m      4\u001b[0m     \u001b[38;5;66;03m# Example usage\u001b[39;00m\n\u001b[0;32m      5\u001b[0m     input_domain \u001b[38;5;241m=\u001b[39m \u001b[38;5;124m'\u001b[39m\u001b[38;5;124mexample.com\u001b[39m\u001b[38;5;124m'\u001b[39m\n\u001b[1;32m----> 6\u001b[0m     is_phishing \u001b[38;5;241m=\u001b[39m \u001b[43mpredict_phishing\u001b[49m(input_domain)\n\u001b[0;32m      7\u001b[0m     \u001b[38;5;28mprint\u001b[39m(\u001b[38;5;124mf\u001b[39m\u001b[38;5;124m\"\u001b[39m\u001b[38;5;124mDomain \u001b[39m\u001b[38;5;132;01m{\u001b[39;00minput_domain\u001b[38;5;132;01m}\u001b[39;00m\u001b[38;5;124m is \u001b[39m\u001b[38;5;132;01m{\u001b[39;00m\u001b[38;5;124m'\u001b[39m\u001b[38;5;124mphishing\u001b[39m\u001b[38;5;124m'\u001b[39m\u001b[38;5;250m \u001b[39m\u001b[38;5;28;01mif\u001b[39;00m\u001b[38;5;250m \u001b[39mis_phishing\u001b[38;5;250m \u001b[39m\u001b[38;5;28;01melse\u001b[39;00m\u001b[38;5;250m \u001b[39m\u001b[38;5;124m'\u001b[39m\u001b[38;5;124mnot phishing\u001b[39m\u001b[38;5;124m'\u001b[39m\u001b[38;5;132;01m}\u001b[39;00m\u001b[38;5;124m\"\u001b[39m)\n",
      "\u001b[1;31mNameError\u001b[0m: name 'predict_phishing' is not defined"
     ]
    }
   ],
   "source": [
    "# Main Application Logic\n",
    "# This is a placeholder for the main application logic\n",
    "if __name__ == '__main__':\n",
    "    # Example usage\n",
    "    input_domain = 'example.com'\n",
    "    is_phishing = predict_phishing(input_domain)\n",
    "    print(f\"Domain {input_domain} is {'phishing' if is_phishing else 'not phishing'}\")"
   ]
  }
 ],
 "metadata": {
  "kernelspec": {
   "display_name": "Python 3",
   "language": "python",
   "name": "python3"
  },
  "language_info": {
   "codemirror_mode": {
    "name": "ipython",
    "version": 3
   },
   "file_extension": ".py",
   "mimetype": "text/x-python",
   "name": "python",
   "nbconvert_exporter": "python",
   "pygments_lexer": "ipython3",
   "version": "3.11.4"
  }
 },
 "nbformat": 4,
 "nbformat_minor": 2
}
